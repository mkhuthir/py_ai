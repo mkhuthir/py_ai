{
 "cells": [
  {
   "cell_type": "markdown",
   "id": "3f91a763-3f39-41e8-a3e1-c3cf9287de2e",
   "metadata": {},
   "source": [
    "### Imports"
   ]
  },
  {
   "cell_type": "code",
   "execution_count": null,
   "id": "17f370bf-50d9-44d8-abda-f28dce7a5fc0",
   "metadata": {},
   "outputs": [],
   "source": [
    "import tensorflow as tf\n",
    "import matplotlib.pyplot as plt"
   ]
  },
  {
   "cell_type": "markdown",
   "id": "812c5b93-4316-4941-8fd3-309fc94e2b7e",
   "metadata": {},
   "source": [
    "### Print TF version"
   ]
  },
  {
   "cell_type": "code",
   "execution_count": null,
   "id": "39aec9a1-10f8-4dcb-8f67-ce029c78e98b",
   "metadata": {},
   "outputs": [],
   "source": [
    "print(tf.__version__)"
   ]
  },
  {
   "cell_type": "markdown",
   "id": "fca8d8b5-b2bf-4171-a17b-d3e7cebd2549",
   "metadata": {},
   "source": [
    "### Load the Fashion MNIST data"
   ]
  },
  {
   "cell_type": "code",
   "execution_count": null,
   "id": "513ac03b-0a75-48a3-b663-59013b6112c4",
   "metadata": {},
   "outputs": [],
   "source": [
    "mnist = tf.keras.datasets.fashion_mnist\n",
    "\n",
    "(training_images, training_labels), (test_images, test_labels) = mnist.load_data()"
   ]
  },
  {
   "cell_type": "markdown",
   "id": "658efc3f-0378-468b-8184-bbceb7bb7fd4",
   "metadata": {},
   "source": [
    "### Show sample from loaded data"
   ]
  },
  {
   "cell_type": "code",
   "execution_count": null,
   "id": "e484ab23-e968-4214-b161-650d7e06c779",
   "metadata": {},
   "outputs": [],
   "source": [
    "plt.imshow(training_images[10])"
   ]
  },
  {
   "cell_type": "markdown",
   "id": "39b4166c-6ff6-4065-93e3-e1a9580fb20e",
   "metadata": {},
   "source": [
    "### Normalize Data (0-255) > (0-1)"
   ]
  },
  {
   "cell_type": "code",
   "execution_count": null,
   "id": "646228a2-df8f-4a19-b749-da31b188f652",
   "metadata": {},
   "outputs": [],
   "source": [
    "training_images  = training_images / 255.0\n",
    "test_images = test_images / 255.0"
   ]
  },
  {
   "cell_type": "markdown",
   "id": "d5162b8c-b6e4-4399-96c9-db5f3c8001b0",
   "metadata": {},
   "source": [
    "### Design Model"
   ]
  },
  {
   "cell_type": "code",
   "execution_count": null,
   "id": "6c0d33bf-5393-410a-9948-f9ce8b7fca2d",
   "metadata": {},
   "outputs": [],
   "source": [
    "model = tf.keras.models.Sequential([tf.keras.layers.Flatten(), \n",
    "                                    tf.keras.layers.Dense(128, activation=tf.nn.relu), \n",
    "                                    tf.keras.layers.Dense(10, activation=tf.nn.softmax)])"
   ]
  },
  {
   "cell_type": "markdown",
   "id": "fdf370e1-e24f-4ff8-9f05-5db7c36d89ea",
   "metadata": {},
   "source": [
    "### Compile Model"
   ]
  },
  {
   "cell_type": "code",
   "execution_count": null,
   "id": "8b00ab5f-ec1b-4943-8cf6-96f773c07d38",
   "metadata": {},
   "outputs": [],
   "source": [
    "model.compile(optimizer = 'adam',\n",
    "              loss      = 'sparse_categorical_crossentropy',\n",
    "              metrics   = ['accuracy'])"
   ]
  },
  {
   "cell_type": "markdown",
   "id": "1430d9e6-3899-483e-ab10-dce814cd461a",
   "metadata": {},
   "source": [
    "### Train Model"
   ]
  },
  {
   "cell_type": "code",
   "execution_count": null,
   "id": "76f8ed72-99d2-4e61-8341-352797243258",
   "metadata": {},
   "outputs": [],
   "source": [
    "model.fit(training_images, training_labels, epochs=5)"
   ]
  },
  {
   "cell_type": "markdown",
   "id": "96f25d86-0f77-4ec1-abff-faa5674ea073",
   "metadata": {},
   "source": [
    "### Evaluate Model"
   ]
  },
  {
   "cell_type": "code",
   "execution_count": null,
   "id": "4a8ab6c7-0d96-4444-abc0-ddbac96ab723",
   "metadata": {},
   "outputs": [],
   "source": [
    "model.evaluate(test_images, test_labels)"
   ]
  },
  {
   "cell_type": "markdown",
   "id": "ca225304-6f86-499a-be1b-aeef9435de72",
   "metadata": {},
   "source": [
    "### Use Model to predict"
   ]
  },
  {
   "cell_type": "code",
   "execution_count": null,
   "id": "174fb0f0-2c06-41f6-be91-c5ae1fa3186e",
   "metadata": {},
   "outputs": [],
   "source": [
    "classifications = model.predict(test_images)"
   ]
  },
  {
   "cell_type": "markdown",
   "id": "0e7bab07-bb96-4187-ac1c-06e3ed1d747c",
   "metadata": {},
   "source": [
    "### Show Results"
   ]
  },
  {
   "cell_type": "code",
   "execution_count": null,
   "id": "92f0c49a-f559-452e-b189-e10330abba0a",
   "metadata": {},
   "outputs": [],
   "source": [
    "print(classifications[0])"
   ]
  },
  {
   "cell_type": "code",
   "execution_count": null,
   "id": "9ab20891-7e93-43ef-93a2-ea6d6aa83fbb",
   "metadata": {},
   "outputs": [],
   "source": [
    "print(test_labels[0])"
   ]
  }
 ],
 "metadata": {
  "kernelspec": {
   "display_name": "Python 3 (ipykernel)",
   "language": "python",
   "name": "python3"
  },
  "language_info": {
   "codemirror_mode": {
    "name": "ipython",
    "version": 3
   },
   "file_extension": ".py",
   "mimetype": "text/x-python",
   "name": "python",
   "nbconvert_exporter": "python",
   "pygments_lexer": "ipython3",
   "version": "3.10.12"
  }
 },
 "nbformat": 4,
 "nbformat_minor": 5
}
